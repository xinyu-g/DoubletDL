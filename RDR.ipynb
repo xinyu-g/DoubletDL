{
 "cells": [
  {
   "cell_type": "code",
   "execution_count": 139,
   "metadata": {},
   "outputs": [],
   "source": [
    "import pandas as pd\n",
    "import numpy as np\n",
    "import matplotlib.pyplot as plt\n",
    "from sklearn.datasets import load_digits\n",
    "from sklearn.model_selection import train_test_split\n",
    "from sklearn.preprocessing import StandardScaler\n",
    "import seaborn as sns\n",
    "import pandas as pd\n",
    "from umap import UMAP\n",
    "import plotly.express as px\n",
    "from umap.umap_ import nearest_neighbors\n",
    "import sklearn.cluster as cluster\n",
    "from collections import defaultdict\n",
    "from scipy.spatial.distance import cdist\n",
    "from sklearn.mixture import GaussianMixture as GMM\n",
    "from sklearn.datasets import make_moons\n",
    "from sklearn.datasets import make_blobs\n",
    "from sklearn.decomposition import PCA\n",
    "from collections import Counter\n",
    "import plotly.io as pio\n",
    "from sklearn.neighbors import NearestNeighbors\n",
    "import time\n",
    "from skimage.filters import threshold_minimum\n",
    "%matplotlib inline"
   ]
  },
  {
   "cell_type": "code",
   "execution_count": 2,
   "metadata": {},
   "outputs": [],
   "source": [
    "# normal_cell = pd.read_csv('binned_read_counts.merged.tsv.txt',sep='\\t')\n",
    "# normal_variant = pd.read_csv('variant_data.filt.tsv.txt', sep='\\t')"
   ]
  },
  {
   "cell_type": "code",
   "execution_count": 65,
   "metadata": {},
   "outputs": [],
   "source": [
    "bin_count_data = pd.read_csv('data/binned_read_counts_autosomes_filtered.tsv.txt', sep='\\t')\n",
    "bin_count_normal = pd.read_csv('data/normal_sample_autosomes.tsv.txt', sep='\\t')\n",
    "snv_bin_mapping = pd.read_csv('data/snv_bin_mapping_autosomes_filtered.csv', names=['mutation_id', 'chr', 'bin'])"
   ]
  },
  {
   "cell_type": "code",
   "execution_count": 66,
   "metadata": {},
   "outputs": [],
   "source": [
    "col_names = ['chr', 'mutation_id', 'cell_id', 'base', 'var', 'total', 'copies']\n",
    "variant_count_data = pd.read_csv('data/variant_data_autosomes_filtered.tsv.txt', sep=\"\\t\",header=None, names=col_names, skiprows=[0])"
   ]
  },
  {
   "cell_type": "code",
   "execution_count": 67,
   "metadata": {},
   "outputs": [],
   "source": [
    "variant_count_data.drop('copies', inplace=True, axis=1)"
   ]
  },
  {
   "cell_type": "code",
   "execution_count": 68,
   "metadata": {},
   "outputs": [],
   "source": [
    "def get_data(bin_count_data, bin_count_normal,variant_count_data,snv_bin_mapping):\n",
    "    data = {}\n",
    "    variant_count_data['chr_mutation'] = variant_count_data['chr'].astype('str') + \"_\" + variant_count_data['mutation_id'].astype(str)\n",
    "    cell_labels = np.sort(variant_count_data['cell_id'].unique())\n",
    "    mut_labels = np.sort(variant_count_data['chr_mutation'].unique())\n",
    "    n = cell_labels.shape[0]\n",
    "    m = mut_labels.shape[0]\n",
    "    cells = np.arange(n,dtype=\"int\")\n",
    "    muts = np.arange(m, dtype=\"int\")\n",
    "    cell_series = pd.Series(data=cells, index= cell_labels)\n",
    "    cell_lookup = pd.Series(data=cell_labels, index=cells)\n",
    "    mut_series = pd.Series(data=muts, index =mut_labels)\n",
    "    data[\"mutation_mapping\"] = mut_series\n",
    "    data[\"cell_mapping\"] = cell_series\n",
    "    mut_lookup = pd.Series(data=mut_labels, index=muts)\n",
    "    variant_count_data['mutation'] = mut_series[variant_count_data['chr_mutation']].values\n",
    "    variant_count_data['cell'] = cell_series[variant_count_data['cell_id']].values\n",
    "    variant_count_data= variant_count_data.set_index([\"cell\", \"mutation\"])\n",
    "    snv_bin_mapping['chr_mutation'] = snv_bin_mapping['chr'].astype('str') + \"_\" + snv_bin_mapping['mutation_id'].astype(str)\n",
    "    snv_bin_mapping['mutation'] = mut_series.loc[snv_bin_mapping['chr_mutation']].values\n",
    "    snv_bin_mapping = snv_bin_mapping.set_index(\"mutation\").sort_index()\n",
    "    data['snv_bin_mapping'] = snv_bin_mapping\n",
    "    bin_count_data['cell_index'] = cell_series[bin_count_data['cell']].values\n",
    "    bin_count_data.sort_values(by=['cell_index'])\n",
    "    bin_count_data.drop(['cell', 'cell_index'], inplace=True, axis=1)\n",
    "    bin_count_raw =   bin_count_data.div(bin_count_data.sum(axis=1), axis=0)\n",
    "    bin_count = bin_count_data.to_numpy()\n",
    "    bin_count_raw = bin_count_raw.to_numpy()\n",
    "    cells = bin_count_normal['cell']\n",
    "    bin_count_normal = bin_count_normal.drop(['cell'], axis=1)\n",
    "    bin_count_normal=   bin_count_normal.div(bin_count_normal.sum(axis=1), axis=0)\n",
    "    bin_normal = bin_count_normal.median()\n",
    "    bins = np.arange(0, bin_normal.shape[0])\n",
    "    bin_mapping = pd.Series(data=bin_normal.index, index=bins)\n",
    "    bin_locs = bin_mapping.to_list()\n",
    "    chromosomes = [c.split(\".\")[0] for c in bin_locs]\n",
    "    chromosomes = [int(c[3:]) for c in chromosomes]\n",
    "    chrom_series = pd.Series(chromosomes, bin_mapping.index)\n",
    "    data['chrom_bin_mapping'] = chrom_series\n",
    "    bin_normal = pd.Series(data=bin_normal.values, index=bins)\n",
    "    baseline = bin_normal.values\n",
    "    rdr = bin_count_raw/baseline[ None, :]\n",
    "    data['RDR'] = rdr\n",
    "    return data"
   ]
  },
  {
   "cell_type": "code",
   "execution_count": 112,
   "metadata": {},
   "outputs": [],
   "source": [
    "def create_labels(n_obs, n_sim):\n",
    "    labels_0 = np.zeros(n_obs, dtype=int)\n",
    "    labels_1 = np.ones(n_sim, dtype=int)\n",
    "    labels = np.concatenate((labels_0, labels_1))\n",
    "    \n",
    "    return labels"
   ]
  },
  {
   "cell_type": "code",
   "execution_count": 113,
   "metadata": {},
   "outputs": [],
   "source": [
    "def simulate_doublets(bin_count_data, sim_doublet_ratio = 0.5):\n",
    "    obs = bin_count_data.to_numpy()\n",
    "    n_obs = len(obs)\n",
    "#     sim_doublet_ratio = 0.1\n",
    "    n_sim = int(n_obs * sim_doublet_ratio)\n",
    "    pair_ix = np.random.randint(0, n_obs, size=(n_sim, 2))\n",
    "    temp = obs[pair_ix[:,0]] + obs[pair_ix[:,1]]\n",
    "    count_data = np.concatenate((obs,temp),axis=0)\n",
    "    bin_count_data_new = pd.DataFrame(count_data, columns=bin_count_data.columns.to_list())\n",
    "    labels = create_labels(n_obs, n_sim)\n",
    "    return bin_count_data_new, labels"
   ]
  },
  {
   "cell_type": "code",
   "execution_count": 70,
   "metadata": {},
   "outputs": [],
   "source": []
  },
  {
   "cell_type": "code",
   "execution_count": 71,
   "metadata": {},
   "outputs": [],
   "source": [
    "def dimension_reduction(rdr, dimension=5):\n",
    "    reducer = UMAP(n_neighbors=100, # default 15, The size of local neighborhood (in terms of number of neighboring sample points) used for manifold approximation.\n",
    "               n_components=dimension, # default 2, The dimension of the space to embed into.\n",
    "               metric='euclidean', # default 'euclidean', The metric to use to compute distances in high dimensional space.\n",
    "               n_epochs=1000, # default None, The number of training epochs to be used in optimizing the low dimensional embedding. Larger values result in more accurate embeddings. \n",
    "               learning_rate=1.0, # default 1.0, The initial learning rate for the embedding optimization.\n",
    "               init='spectral', # default 'spectral', How to initialize the low dimensional embedding. Options are: {'spectral', 'random', A numpy array of initial embedding positions}.\n",
    "               min_dist=0.1, # default 0.1, The effective minimum distance between embedded points.\n",
    "               spread=1.0, # default 1.0, The effective scale of embedded points. In combination with ``min_dist`` this determines how clustered/clumped the embedded points are.\n",
    "               low_memory=False, # default False, For some datasets the nearest neighbor computation can consume a lot of memory. If you find that UMAP is failing due to memory constraints consider setting this option to True.\n",
    "               set_op_mix_ratio=1.0, # default 1.0, The value of this parameter should be between 0.0 and 1.0; a value of 1.0 will use a pure fuzzy union, while 0.0 will use a pure fuzzy intersection.\n",
    "               local_connectivity=1, # default 1, The local connectivity required -- i.e. the number of nearest neighbors that should be assumed to be connected at a local level.\n",
    "               repulsion_strength=1.0, # default 1.0, Weighting applied to negative samples in low dimensional embedding optimization.\n",
    "               negative_sample_rate=5, # default 5, Increasing this value will result in greater repulsive force being applied, greater optimization cost, but slightly more accuracy.\n",
    "               transform_queue_size=4.0, # default 4.0, Larger values will result in slower performance but more accurate nearest neighbor evaluation.\n",
    "               a=None, # default None, More specific parameters controlling the embedding. If None these values are set automatically as determined by ``min_dist`` and ``spread``.\n",
    "               b=None, # default None, More specific parameters controlling the embedding. If None these values are set automatically as determined by ``min_dist`` and ``spread``.\n",
    "               random_state=42, # default: None, If int, random_state is the seed used by the random number generator;\n",
    "               metric_kwds=None, # default None) Arguments to pass on to the metric, such as the ``p`` value for Minkowski distance.\n",
    "               angular_rp_forest=False, # default False, Whether to use an angular random projection forest to initialise the approximate nearest neighbor search.\n",
    "               target_n_neighbors=-1, # default -1, The number of nearest neighbors to use to construct the target simplcial set. If set to -1 use the ``n_neighbors`` value.\n",
    "               #target_metric='categorical', # default 'categorical', The metric used to measure distance for a target array is using supervised dimension reduction. By default this is 'categorical' which will measure distance in terms of whether categories match or are different. \n",
    "               #target_metric_kwds=None, # dict, default None, Keyword argument to pass to the target metric when performing supervised dimension reduction. If None then no arguments are passed on.\n",
    "               #target_weight=0.5, # default 0.5, weighting factor between data topology and target topology.\n",
    "               transform_seed=42, # default 42, Random seed used for the stochastic aspects of the transform operation.\n",
    "               verbose=False, # default False, Controls verbosity of logging.\n",
    "               unique=False, # default False, Controls if the rows of your data should be uniqued before being embedded. \n",
    "              )\n",
    "    rdr_trans = reducer.fit_transform(rdr)\n",
    "    \n",
    "    return rdr_trans"
   ]
  },
  {
   "cell_type": "code",
   "execution_count": 72,
   "metadata": {},
   "outputs": [],
   "source": [
    "def get_knn_graph(X, k=5, dist_metric='euclidean', approx=False, return_edges=True):\n",
    "    t0 = time.time()\n",
    "    if approx:\n",
    "        try:\n",
    "            from annoy import AnnoyIndex\n",
    "        except:\n",
    "            approx = False\n",
    "            print('Could not find library \"annoy\" for approx. nearest neighbor search')\n",
    "    if approx:\n",
    "        #print('Using approximate nearest neighbor search')\n",
    "\n",
    "        if dist_metric == 'cosine':\n",
    "            dist_metric = 'angular'\n",
    "        npc = X.shape[1]\n",
    "        ncell = X.shape[0]\n",
    "        annoy_index = AnnoyIndex(npc, metric=dist_metric)\n",
    "\n",
    "        for i in range(ncell):\n",
    "            annoy_index.add_item(i, list(X[i,:]))\n",
    "        annoy_index.build(10) # 10 trees\n",
    "\n",
    "        knn = []\n",
    "        for iCell in range(ncell):\n",
    "            knn.append(annoy_index.get_nns_by_item(iCell, k + 1)[1:])\n",
    "        knn = np.array(knn, dtype=int)\n",
    "\n",
    "    else:\n",
    "        #print('Using sklearn NearestNeighbors')\n",
    "\n",
    "        if dist_metric == 'cosine':\n",
    "            nbrs = NearestNeighbors(n_neighbors=k, metric=dist_metric, algorithm='brute').fit(X)\n",
    "        else:\n",
    "            nbrs = NearestNeighbors(n_neighbors=k, metric=dist_metric).fit(X)\n",
    "        knn = nbrs.kneighbors(return_distance=False)\n",
    "\n",
    "    if return_edges:\n",
    "        links = set([])\n",
    "        for i in range(knn.shape[0]):\n",
    "            for j in knn[i,:]:\n",
    "                links.add(tuple(sorted((i,j))))\n",
    "\n",
    "        t_elapse = time.time() - t0\n",
    "        #print('kNN graph built in %.3f sec' %(t_elapse))\n",
    "\n",
    "        return links, knn\n",
    "    return knn"
   ]
  },
  {
   "cell_type": "code",
   "execution_count": 132,
   "metadata": {},
   "outputs": [],
   "source": [
    "def nearest_neighbor_classifier(embedding, doub_labels, k=50, use_approx_nn=True, distance_metric='euclidean', exp_doub_rate=0.1, stdev_doub_rate=0.03, get_neighbor_parents = False, parent_cells = None):\n",
    "    n_obs = sum(doub_labels == 0)\n",
    "    n_sim = sum(doub_labels == 1)\n",
    "    \n",
    "     # Adjust k (number of nearest neighbors) based on the ratio of simulated to observed cells\n",
    "    k_adj = int(round(k * (1+n_sim/float(n_obs))))\n",
    "\n",
    "    # Find k_adj nearest neighbors\n",
    "    neighbors = get_knn_graph(embedding, k=k_adj, dist_metric=distance_metric, approx=use_approx_nn, return_edges=False)\n",
    "\n",
    "    # Calculate doublet score based on ratio of simulated cell neighbors vs. observed cell neighbors\n",
    "    doub_neigh_mask = doub_labels[neighbors] == 1\n",
    "    n_sim_neigh = doub_neigh_mask.sum(1)\n",
    "    n_obs_neigh = doub_neigh_mask.shape[1] - n_sim_neigh\n",
    "\n",
    "    rho = exp_doub_rate\n",
    "    r = n_sim / float(n_obs)\n",
    "    nd = n_sim_neigh.astype(float)\n",
    "    ns = n_obs_neigh.astype(float)\n",
    "    N = float(k_adj)\n",
    "\n",
    "    # Bayesian\n",
    "    q=(nd+1)/(N+2)\n",
    "    Ld = q*rho/r/(1-rho-q*(1-rho-rho/r))\n",
    "    print(Ld)\n",
    "\n",
    "    se_q = np.sqrt(q*(1-q)/(N+3))\n",
    "    se_rho = stdev_doub_rate\n",
    "\n",
    "    se_Ld = q*rho/r / (1-rho-q*(1-rho-rho/r))**2 * np.sqrt((se_q/q*(1-rho))**2 + (se_rho/rho*(1-q))**2)\n",
    "\n",
    "    doublet_scores_obs = Ld[doub_labels == 0]\n",
    "    doublet_scores_sim = Ld[doub_labels == 1]\n",
    "    doublet_errors_obs = se_Ld[doub_labels==0]\n",
    "    doublet_errors_sim = se_Ld[doub_labels==1]\n",
    "\n",
    "    # get parents of doublet neighbors, if requested\n",
    "    neighbor_parents = None\n",
    "    if get_neighbor_parents:\n",
    "        parent_cells = self.doublet_parents_\n",
    "        neighbors = neighbors - n_obs\n",
    "        neighbor_parents = []\n",
    "        for iCell in range(n_obs):\n",
    "            this_doub_neigh = neighbors[iCell,:][neighbors[iCell,:] > -1]\n",
    "            if len(this_doub_neigh) > 0:\n",
    "                this_doub_neigh_parents = np.unique(parent_cells[this_doub_neigh,:].flatten())\n",
    "                neighbor_parents.append(this_doub_neigh_parents)\n",
    "            else:\n",
    "                neighbor_parents.append([])\n",
    "        self.doublet_neighbor_parents_ = np.array(neighbor_parents)\n",
    "    return doublet_scores_obs, doublet_scores_sim, doublet_errors_obs, doublet_errors_sim"
   ]
  },
  {
   "cell_type": "code",
   "execution_count": 146,
   "metadata": {},
   "outputs": [],
   "source": [
    "def plot_histogram(doublet_scores_obs_, doublet_scores_sim_, threshold_=None, scale_hist_obs='log', scale_hist_sim='linear', fig_size = (8,3)):\n",
    "        ''' Plot histogram of doublet scores for observed transcriptomes and simulated doublets \n",
    "        The histogram for simulated doublets is useful for determining the correct doublet \n",
    "        score threshold. To set threshold to a new value, T, run call_doublets(threshold=T).\n",
    "\n",
    "        '''\n",
    "\n",
    "        fig, axs = plt.subplots(1, 2, figsize = fig_size)\n",
    "        \n",
    "        if not threshold_:\n",
    "            threshold_ = threshold_minimum(doublet_scores_sim_)\n",
    "\n",
    "        ax = axs[0]\n",
    "        ax.hist(doublet_scores_obs_, np.linspace(0, 1, 50), color='gray', linewidth=0, density=True)\n",
    "        ax.set_yscale(scale_hist_obs)\n",
    "        yl = ax.get_ylim()\n",
    "        ax.set_ylim(yl)\n",
    "        ax.plot(threshold_ * np.ones(2), yl, c='black', linewidth=1)\n",
    "        ax.set_title('Observed cells')\n",
    "        ax.set_xlabel('Doublet score')\n",
    "        ax.set_ylabel('Prob. density')\n",
    "\n",
    "        ax = axs[1]\n",
    "        ax.hist(doublet_scores_sim_, np.linspace(0, 1, 50), color='gray', linewidth=0, density=True)\n",
    "        ax.set_yscale(scale_hist_sim)\n",
    "        yl = ax.get_ylim()\n",
    "        ax.set_ylim(yl)\n",
    "        ax.plot(threshold_ * np.ones(2), yl, c = 'black', linewidth = 1)\n",
    "        ax.set_title('Simulated doublets')\n",
    "        ax.set_xlabel('Doublet score')\n",
    "        ax.set_ylabel('Prob. density')\n",
    "\n",
    "        fig.tight_layout()\n",
    "\n",
    "        return fig, axs"
   ]
  },
  {
   "cell_type": "code",
   "execution_count": 152,
   "metadata": {},
   "outputs": [],
   "source": [
    "def call_doublets(doublet_scores_obs_, doublet_scores_sim_, doublet_errors_obs_, expected_doublet_rate=0.1, threshold=None, verbose=True):\n",
    "        ''' Call trancriptomes as doublets or singlets\n",
    "\n",
    "        Arguments\n",
    "        ---------\n",
    "        threshold : float, optional (default: None) \n",
    "            Doublet score threshold for calling a transcriptome\n",
    "            a doublet. If `None`, this is set automatically by looking\n",
    "            for the minimum between the two modes of the `doublet_scores_sim_`\n",
    "            histogram. It is best practice to check the threshold visually\n",
    "            using the `doublet_scores_sim_` histogram and/or based on \n",
    "            co-localization of predicted doublets in a 2-D embedding.\n",
    "\n",
    "        verbose : bool, optional (default: True)\n",
    "            If True, print summary statistics.\n",
    "\n",
    "        Sets\n",
    "        ----\n",
    "        predicted_doublets_, z_scores_, threshold_,\n",
    "        detected_doublet_rate_, detectable_doublet_fraction, \n",
    "        overall_doublet_rate_\n",
    "        '''\n",
    "\n",
    "        if threshold is None:\n",
    "            # automatic threshold detection\n",
    "            # http://scikit-image.org/docs/dev/api/skimage.filters.html\n",
    "            from skimage.filters import threshold_minimum\n",
    "            try:\n",
    "                threshold = threshold_minimum(doublet_scores_sim_)\n",
    "                if verbose:\n",
    "                    print(\"Automatically set threshold at doublet score = {:.2f}\".format(threshold))\n",
    "            except:\n",
    "                predicted_doublets_ = None\n",
    "                if verbose:\n",
    "                    print(\"Warning: failed to automatically identify doublet score threshold. Run `call_doublets` with user-specified threshold.\")\n",
    "                return predicted_doublets_\n",
    "\n",
    "        Ld_obs = doublet_scores_obs_\n",
    "        Ld_sim = doublet_scores_sim_\n",
    "        se_obs = doublet_errors_obs_\n",
    "        Z = (Ld_obs - threshold) / se_obs\n",
    "        predicted_doublets_ = Ld_obs > threshold\n",
    "        z_scores_ = Z\n",
    "        threshold_ = threshold\n",
    "        detected_doublet_rate_ = (Ld_obs>threshold).sum() / float(len(Ld_obs))\n",
    "        detectable_doublet_fraction_ = (Ld_sim>threshold).sum() / float(len(Ld_sim))\n",
    "        overall_doublet_rate_ = detected_doublet_rate_ / detectable_doublet_fraction_\n",
    "\n",
    "        if verbose:\n",
    "            print('Detected doublet rate = {:.1f}%'.format(100*detected_doublet_rate_))\n",
    "            print('Estimated detectable doublet fraction = {:.1f}%'.format(100*detectable_doublet_fraction_))\n",
    "            print('Overall doublet rate:')\n",
    "            print('\\tExpected   = {:.1f}%'.format(100*expected_doublet_rate))\n",
    "            print('\\tEstimated  = {:.1f}%'.format(100*overall_doublet_rate_))\n",
    "            \n",
    "        return predicted_doublets_, threshold_"
   ]
  },
  {
   "cell_type": "code",
   "execution_count": 166,
   "metadata": {},
   "outputs": [],
   "source": [
    "def plot(rdr_trans, labels=None, x=None, y=None, name=None):\n",
    "    fig = plt.figure()\n",
    "    plt.scatter(rdr_trans[:,0], rdr_trans[:,1], c=labels, s=0.1, cmap='Spectral')\n",
    "#     plt.legend()\n",
    "    if x:\n",
    "        plt.xlabel(f'{x}')\n",
    "    if y:\n",
    "        plt.xlabel(f'{y}')\n",
    "    if name:\n",
    "        plt.savefig(f'{name}.png')\n",
    "    return fig"
   ]
  },
  {
   "cell_type": "code",
   "execution_count": 81,
   "metadata": {},
   "outputs": [],
   "source": [
    "data=get_data(pd.concat([bin_count_data, bin_count_normal]),bin_count_normal,variant_count_data,snv_bin_mapping)"
   ]
  },
  {
   "cell_type": "code",
   "execution_count": 82,
   "metadata": {},
   "outputs": [],
   "source": [
    "rdr = data['RDR']"
   ]
  },
  {
   "cell_type": "code",
   "execution_count": 83,
   "metadata": {},
   "outputs": [
    {
     "data": {
      "text/plain": [
       "array([[0.79401484, 0.84294879, 0.82388614, ..., 1.1263762 , 1.11170634,\n",
       "        1.01939827],\n",
       "       [0.75533629, 0.76328208, 0.82766831, ..., 1.03843526, 1.01914688,\n",
       "        1.01547299],\n",
       "       [0.79334036, 0.74353755, 0.80360424, ..., 0.99974793, 1.03361258,\n",
       "        0.94109451],\n",
       "       ...,\n",
       "       [0.98984869, 1.02283107, 0.95970166, ..., 1.03044672, 0.90277654,\n",
       "        1.04499165],\n",
       "       [1.02149711, 1.05526537, 0.97006989, ..., 1.03620337, 1.08257573,\n",
       "        1.13908428],\n",
       "       [1.04943216, 1.06336913, 1.04789101, ..., 1.01274198, 0.98485357,\n",
       "        1.10893789]])"
      ]
     },
     "execution_count": 83,
     "metadata": {},
     "output_type": "execute_result"
    }
   ],
   "source": [
    "rdr"
   ]
  },
  {
   "cell_type": "code",
   "execution_count": 84,
   "metadata": {},
   "outputs": [],
   "source": [
    "rdr_trans = dimension_reduction(rdr)"
   ]
  },
  {
   "cell_type": "code",
   "execution_count": 162,
   "metadata": {},
   "outputs": [
    {
     "data": {
      "image/png": "[encoded data removed]",
      "text/plain": [
       "<Figure size 432x288 with 1 Axes>"
      ]
     },
     "execution_count": 162,
     "metadata": {},
     "output_type": "execute_result"
    },
    {
     "data": {
      "image/png": "[encoded data removed]",
      "text/plain": [
       "<Figure size 432x288 with 1 Axes>"
      ]
     },
     "metadata": {
      "needs_background": "light"
     },
     "output_type": "display_data"
    }
   ],
   "source": [
    "plot(rdr_trans, name='dr_observed')"
   ]
  },
  {
   "cell_type": "code",
   "execution_count": 114,
   "metadata": {},
   "outputs": [],
   "source": [
    "obs_sim, labels = simulate_doublets(pd.concat([bin_count_data, bin_count_normal]))"
   ]
  },
  {
   "cell_type": "code",
   "execution_count": 115,
   "metadata": {},
   "outputs": [],
   "source": [
    "data_s = get_data(obs_sim,bin_count_normal, variant_count_data,snv_bin_mapping)"
   ]
  },
  {
   "cell_type": "code",
   "execution_count": 116,
   "metadata": {},
   "outputs": [],
   "source": [
    "rdr_s = data_s['RDR']"
   ]
  },
  {
   "cell_type": "code",
   "execution_count": 118,
   "metadata": {},
   "outputs": [],
   "source": [
    "rdr_s_trans = dimension_reduction(rdr_s)"
   ]
  },
  {
   "cell_type": "code",
   "execution_count": 167,
   "metadata": {
    "scrolled": true
   },
   "outputs": [
    {
     "data": {
      "image/png": "[encoded data removed]",
      "text/plain": [
       "<Figure size 432x288 with 1 Axes>"
      ]
     },
     "execution_count": 167,
     "metadata": {},
     "output_type": "execute_result"
    },
    {
     "data": {
      "image/png": "[encoded data removed]",
      "text/plain": [
       "<Figure size 432x288 with 1 Axes>"
      ]
     },
     "metadata": {
      "needs_background": "light"
     },
     "output_type": "display_data"
    }
   ],
   "source": [
    "plot(rdr_s_trans, labels, name='dr_combined')"
   ]
  },
  {
   "cell_type": "code",
   "execution_count": 135,
   "metadata": {},
   "outputs": [
    {
     "name": "stdout",
     "output_type": "stream",
     "text": [
      "Could not find library \"annoy\" for approx. nearest neighbor search\n",
      "[0.05924037 0.31613628 0.10715474 ... 0.89286903 0.13026618 0.94410594]\n"
     ]
    }
   ],
   "source": [
    "doublet_scores_obs, doublet_scores_sim, doublet_errors_obs, doublet_errors_sim = nearest_neighbor_classifier(rdr_s, labels)"
   ]
  },
  {
   "cell_type": "code",
   "execution_count": 169,
   "metadata": {
    "scrolled": true
   },
   "outputs": [
    {
     "data": {
      "image/png": "[encoded data removed]",
      "text/plain": [
       "<Figure size 576x216 with 2 Axes>"
      ]
     },
     "metadata": {
      "needs_background": "light"
     },
     "output_type": "display_data"
    }
   ],
   "source": [
    "fig1, ax = plot_histogram(doublet_scores_obs, doublet_scores_sim)"
   ]
  },
  {
   "cell_type": "code",
   "execution_count": 175,
   "metadata": {},
   "outputs": [],
   "source": [
    "fig1.savefig('score_dis_df.png')"
   ]
  },
  {
   "cell_type": "code",
   "execution_count": 158,
   "metadata": {},
   "outputs": [
    {
     "name": "stdout",
     "output_type": "stream",
     "text": [
      "Detected doublet rate = 8.1%\n",
      "Estimated detectable doublet fraction = 68.6%\n",
      "Overall doublet rate:\n",
      "\tExpected   = 10.0%\n",
      "\tEstimated  = 11.9%\n"
     ]
    }
   ],
   "source": [
    "predicted_doublets, threshold = call_doublets(doublet_scores_obs, doublet_scores_sim, doublet_errors_obs, threshold=0.6)"
   ]
  },
  {
   "cell_type": "code",
   "execution_count": 161,
   "metadata": {},
   "outputs": [
    {
     "data": {
      "text/plain": [
       "array([False, False, False, ..., False, False, False])"
      ]
     },
     "execution_count": 161,
     "metadata": {},
     "output_type": "execute_result"
    }
   ],
   "source": [
    "predicted_doublets"
   ]
  },
  {
   "cell_type": "code",
   "execution_count": 173,
   "metadata": {},
   "outputs": [
    {
     "data": {
      "image/png": "[encoded data removed]",
      "text/plain": [
       "<Figure size 576x216 with 2 Axes>"
      ]
     },
     "metadata": {
      "needs_background": "light"
     },
     "output_type": "display_data"
    }
   ],
   "source": [
    "fig2, ax = plot_histogram(doublet_scores_obs, doublet_scores_sim, threshold_=threshold)"
   ]
  },
  {
   "cell_type": "code",
   "execution_count": 176,
   "metadata": {},
   "outputs": [],
   "source": [
    "fig2.savefig('score_dis.png')"
   ]
  },
  {
   "cell_type": "code",
   "execution_count": 92,
   "metadata": {},
   "outputs": [],
   "source": [
    "def inverse_cluster(data, cluster_labels):\n",
    "    res = defaultdict(list)\n",
    "    for i in range(len(data)):\n",
    "        res[cluster_labels[i]] += [(i,data[i])]\n",
    "    return res"
   ]
  },
  {
   "cell_type": "code",
   "execution_count": 114,
   "metadata": {},
   "outputs": [],
   "source": [
    "def inverse_cluster_cells(data, cluster_labels):\n",
    "    res = defaultdict(list)\n",
    "    for i in range(len(data)):\n",
    "        res[cluster_labels[i]] += [i]\n",
    "    return res"
   ]
  }
 ],
 "metadata": {
  "kernelspec": {
   "display_name": "Python 3",
   "language": "python",
   "name": "python3"
  },
  "language_info": {
   "codemirror_mode": {
    "name": "ipython",
    "version": 3
   },
   "file_extension": ".py",
   "mimetype": "text/x-python",
   "name": "python",
   "nbconvert_exporter": "python",
   "pygments_lexer": "ipython3",
   "version": "3.7.4"
  }
 },
 "nbformat": 4,
 "nbformat_minor": 2
}
